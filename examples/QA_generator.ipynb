{
  "cells": [
    {
      "cell_type": "code",
      "execution_count": null,
      "metadata": {
        "colab": {
          "base_uri": "https://localhost:8080/"
        },
        "id": "Zc7HJUUNCtf4",
        "outputId": "12e0b98c-4f67-4200-ad4d-066b6c51084b"
      },
      "outputs": [
        {
          "name": "stdout",
          "output_type": "stream",
          "text": [
            "Cloning into 'MCQ_generator'...\n",
            "remote: Enumerating objects: 675, done.\u001b[K\n",
            "remote: Counting objects: 100% (16/16), done.\u001b[K\n",
            "remote: Compressing objects: 100% (14/14), done.\u001b[K\n",
            "remote: Total 675 (delta 4), reused 11 (delta 2), pack-reused 659\u001b[K\n",
            "Receiving objects: 100% (675/675), 280.10 KiB | 3.29 MiB/s, done.\n",
            "Resolving deltas: 100% (382/382), done.\n"
          ]
        }
      ],
      "source": [
        "!git clone https://github.com/TrongNV2003/T5-QA-Generator"
      ]
    },
    {
      "cell_type": "code",
      "execution_count": null,
      "metadata": {
        "colab": {
          "base_uri": "https://localhost:8080/"
        },
        "id": "vWyyn8pLC-3F",
        "outputId": "1f99e8fb-a595-4204-937a-f2f75733f649"
      },
      "outputs": [
        {
          "name": "stdout",
          "output_type": "stream",
          "text": [
            "/content/MCQ_generator\n"
          ]
        }
      ],
      "source": [
        "cd /content/T5-QA-Generator"
      ]
    },
    {
      "cell_type": "markdown",
      "metadata": {},
      "source": [
        "**Training Model**"
      ]
    },
    {
      "cell_type": "code",
      "execution_count": null,
      "metadata": {
        "colab": {
          "base_uri": "https://localhost:8080/"
        },
        "id": "0Y3AtfUxpe30",
        "outputId": "7418ee7c-8540-4aeb-a2f3-50701c4b5259"
      },
      "outputs": [
        {
          "name": "stdout",
          "output_type": "stream",
          "text": [
            "tokenizer_config.json: 100% 2.20k/2.20k [00:00<00:00, 13.8MB/s]\n",
            "spiece.model: 100% 820k/820k [00:00<00:00, 16.7MB/s]\n",
            "special_tokens_map.json: 100% 2.12k/2.12k [00:00<00:00, 15.6MB/s]\n",
            "tokenizer.json: 100% 2.40M/2.40M [00:00<00:00, 26.0MB/s]\n",
            "You are using the default legacy behaviour of the <class 'transformers.models.t5.tokenization_t5.T5Tokenizer'>. This is expected, and simply means that the `legacy` (previous) behavior will be used so nothing changes for you. If you want to use the new behaviour, set `legacy=False`. This should only be set if you understand what it means, and thoroughly read the reason why this was added as explained in https://github.com/huggingface/transformers/pull/24565\n",
            "Training with learning rate: 2e-05\n",
            "config.json: 100% 702/702 [00:00<00:00, 4.57MB/s]\n",
            "pytorch_model.bin: 100% 904M/904M [00:04<00:00, 218MB/s]\n",
            "epoch 1:   0% 0/75 [00:00<?, ?batches/s]/usr/lib/python3.10/multiprocessing/popen_fork.py:66: RuntimeWarning: os.fork() was called. os.fork() is incompatible with multithreaded code, and JAX is multithreaded, so this will likely lead to a deadlock.\n",
            "  self.pid = os.fork()\n",
            "epoch 1: 100% 75/75 [01:19<00:00,  1.05s/batches, train_loss=3.06]\n",
            "validation: 100% 13/13 [00:04<00:00,  2.73batches/s, valid_loss=0.979]\n",
            "Validation loss decreased from inf to 0.9795. Saving.\n",
            "epoch 2:   0% 0/75 [00:00<?, ?batches/s]/usr/lib/python3.10/multiprocessing/popen_fork.py:66: RuntimeWarning: os.fork() was called. os.fork() is incompatible with multithreaded code, and JAX is multithreaded, so this will likely lead to a deadlock.\n",
            "  self.pid = os.fork()\n",
            "epoch 2: 100% 75/75 [01:21<00:00,  1.09s/batches, train_loss=1.02]\n",
            "validation: 100% 13/13 [00:04<00:00,  2.60batches/s, valid_loss=0.702]\n",
            "Validation loss decreased from 0.9795 to 0.7020. Saving.\n",
            "epoch 3:   0% 0/75 [00:00<?, ?batches/s]/usr/lib/python3.10/multiprocessing/popen_fork.py:66: RuntimeWarning: os.fork() was called. os.fork() is incompatible with multithreaded code, and JAX is multithreaded, so this will likely lead to a deadlock.\n",
            "  self.pid = os.fork()\n",
            "epoch 3: 100% 75/75 [01:23<00:00,  1.12s/batches, train_loss=0.674]\n",
            "validation: 100% 13/13 [00:05<00:00,  2.53batches/s, valid_loss=0.618]\n",
            "Validation loss decreased from 0.7020 to 0.6183. Saving.\n",
            "epoch 4:   0% 0/75 [00:00<?, ?batches/s]/usr/lib/python3.10/multiprocessing/popen_fork.py:66: RuntimeWarning: os.fork() was called. os.fork() is incompatible with multithreaded code, and JAX is multithreaded, so this will likely lead to a deadlock.\n",
            "  self.pid = os.fork()\n",
            "epoch 4: 100% 75/75 [01:24<00:00,  1.13s/batches, train_loss=0.477]\n",
            "validation: 100% 13/13 [00:05<00:00,  2.60batches/s, valid_loss=0.639]\n",
            "epoch 5: 100% 75/75 [01:24<00:00,  1.13s/batches, train_loss=0.345]\n",
            "validation: 100% 13/13 [00:05<00:00,  2.55batches/s, valid_loss=0.7]\n",
            "epoch 6: 100% 75/75 [01:24<00:00,  1.13s/batches, train_loss=0.276]\n",
            "validation: 100% 13/13 [00:05<00:00,  2.57batches/s, valid_loss=0.698]\n",
            "epoch 7: 100% 75/75 [01:24<00:00,  1.13s/batches, train_loss=0.217]\n",
            "validation: 100% 13/13 [00:05<00:00,  2.56batches/s, valid_loss=0.764]\n",
            "epoch 8: 100% 75/75 [01:24<00:00,  1.13s/batches, train_loss=0.171]\n",
            "validation: 100% 13/13 [00:05<00:00,  2.57batches/s, valid_loss=0.728]\n",
            "epoch 9: 100% 75/75 [01:24<00:00,  1.13s/batches, train_loss=0.139]\n",
            "validation: 100% 13/13 [00:05<00:00,  2.57batches/s, valid_loss=0.807]\n",
            "epoch 10: 100% 75/75 [01:24<00:00,  1.13s/batches, train_loss=0.12]\n",
            "validation: 100% 13/13 [00:05<00:00,  2.56batches/s, valid_loss=0.818]\n",
            "Training with learning rate: 1e-05\n",
            "epoch 1: 100% 75/75 [01:24<00:00,  1.13s/batches, train_loss=5.02]\n",
            "validation: 100% 13/13 [00:05<00:00,  2.58batches/s, valid_loss=1.59]\n",
            "Validation loss decreased from inf to 1.5871. Saving.\n",
            "epoch 2:   0% 0/75 [00:00<?, ?batches/s]/usr/lib/python3.10/multiprocessing/popen_fork.py:66: RuntimeWarning: os.fork() was called. os.fork() is incompatible with multithreaded code, and JAX is multithreaded, so this will likely lead to a deadlock.\n",
            "  self.pid = os.fork()\n",
            "epoch 2: 100% 75/75 [01:24<00:00,  1.13s/batches, train_loss=1.56]\n",
            "validation: 100% 13/13 [00:05<00:00,  2.56batches/s, valid_loss=0.939]\n",
            "Validation loss decreased from 1.5871 to 0.9386. Saving.\n",
            "epoch 3:   0% 0/75 [00:00<?, ?batches/s]/usr/lib/python3.10/multiprocessing/popen_fork.py:66: RuntimeWarning: os.fork() was called. os.fork() is incompatible with multithreaded code, and JAX is multithreaded, so this will likely lead to a deadlock.\n",
            "  self.pid = os.fork()\n",
            "epoch 3: 100% 75/75 [01:24<00:00,  1.13s/batches, train_loss=1.08]\n",
            "validation: 100% 13/13 [00:04<00:00,  2.60batches/s, valid_loss=0.779]\n",
            "Validation loss decreased from 0.9386 to 0.7790. Saving.\n",
            "epoch 4:   0% 0/75 [00:00<?, ?batches/s]/usr/lib/python3.10/multiprocessing/popen_fork.py:66: RuntimeWarning: os.fork() was called. os.fork() is incompatible with multithreaded code, and JAX is multithreaded, so this will likely lead to a deadlock.\n",
            "  self.pid = os.fork()\n",
            "epoch 4: 100% 75/75 [01:24<00:00,  1.13s/batches, train_loss=0.831]\n",
            "validation: 100% 13/13 [00:05<00:00,  2.54batches/s, valid_loss=0.691]\n",
            "Validation loss decreased from 0.7790 to 0.6915. Saving.\n",
            "epoch 5:   0% 0/75 [00:00<?, ?batches/s]/usr/lib/python3.10/multiprocessing/popen_fork.py:66: RuntimeWarning: os.fork() was called. os.fork() is incompatible with multithreaded code, and JAX is multithreaded, so this will likely lead to a deadlock.\n",
            "  self.pid = os.fork()\n",
            "epoch 5: 100% 75/75 [01:24<00:00,  1.13s/batches, train_loss=0.666]\n",
            "validation: 100% 13/13 [00:05<00:00,  2.57batches/s, valid_loss=0.671]\n",
            "Validation loss decreased from 0.6915 to 0.6709. Saving.\n",
            "epoch 6:   0% 0/75 [00:00<?, ?batches/s]/usr/lib/python3.10/multiprocessing/popen_fork.py:66: RuntimeWarning: os.fork() was called. os.fork() is incompatible with multithreaded code, and JAX is multithreaded, so this will likely lead to a deadlock.\n",
            "  self.pid = os.fork()\n",
            "epoch 6: 100% 75/75 [01:24<00:00,  1.13s/batches, train_loss=0.552]\n",
            "validation: 100% 13/13 [00:05<00:00,  2.59batches/s, valid_loss=0.646]\n",
            "Validation loss decreased from 0.6709 to 0.6458. Saving.\n",
            "epoch 7:   0% 0/75 [00:00<?, ?batches/s]/usr/lib/python3.10/multiprocessing/popen_fork.py:66: RuntimeWarning: os.fork() was called. os.fork() is incompatible with multithreaded code, and JAX is multithreaded, so this will likely lead to a deadlock.\n",
            "  self.pid = os.fork()\n",
            "epoch 7: 100% 75/75 [01:24<00:00,  1.13s/batches, train_loss=0.445]\n",
            "validation: 100% 13/13 [00:05<00:00,  2.54batches/s, valid_loss=0.68]\n",
            "epoch 8: 100% 75/75 [01:24<00:00,  1.13s/batches, train_loss=0.39]\n",
            "validation: 100% 13/13 [00:05<00:00,  2.50batches/s, valid_loss=0.679]\n",
            "epoch 9: 100% 75/75 [01:24<00:00,  1.13s/batches, train_loss=0.33]\n",
            "validation: 100% 13/13 [00:05<00:00,  2.56batches/s, valid_loss=0.707]\n",
            "epoch 10: 100% 75/75 [01:24<00:00,  1.13s/batches, train_loss=0.268]\n",
            "validation: 100% 13/13 [00:05<00:00,  2.55batches/s, valid_loss=0.77]\n"
          ]
        }
      ],
      "source": [
        "!python training/train_qa.py"
      ]
    },
    {
      "cell_type": "code",
      "execution_count": null,
      "metadata": {
        "colab": {
          "base_uri": "https://localhost:8080/"
        },
        "id": "KM5LVo5IpOB0",
        "outputId": "fcc7e748-e702-4f26-c5fd-63b7196794aa"
      },
      "outputs": [
        {
          "name": "stdout",
          "output_type": "stream",
          "text": [
            "\rtokenizer_config.json:   0% 0.00/238 [00:00<?, ?B/s]\rtokenizer_config.json: 100% 238/238 [00:00<00:00, 1.55MB/s]\n",
            "config.json: 100% 846/846 [00:00<00:00, 6.02MB/s]\n",
            "vocab.txt: 100% 207k/207k [00:00<00:00, 3.51MB/s]\n",
            "special_tokens_map.json: 100% 112/112 [00:00<00:00, 736kB/s]\n",
            "Training with learning rate: 2e-05\n",
            "pytorch_model.bin: 100% 443M/443M [00:08<00:00, 49.8MB/s]\n",
            "Some weights of BertForSequenceClassification were not initialized from the model checkpoint at trituenhantaoio/bert-base-vietnamese-uncased and are newly initialized: ['classifier.bias', 'classifier.weight']\n",
            "You should probably TRAIN this model on a down-stream task to be able to use it for predictions and inference.\n",
            "epoch 1: 100% 38/38 [00:39<00:00,  1.05s/batches, train_loss=0.727]\n",
            "validation: 100% 7/7 [00:01<00:00,  3.91batches/s, valid_acc=0.446]\n",
            "Validation accuracy improved from 0.0000 to 0.4464. Saving.\n",
            "validation: 100% 7/7 [00:01<00:00,  4.05batches/s, valid_loss=0.677]\n",
            "epoch 2: 100% 38/38 [00:28<00:00,  1.35batches/s, train_loss=0.722]\n",
            "validation: 100% 7/7 [00:01<00:00,  3.91batches/s, valid_acc=0.589]\n",
            "Validation accuracy improved from 0.4464 to 0.5893. Saving.\n",
            "validation: 100% 7/7 [00:01<00:00,  4.00batches/s, valid_loss=0.706]\n",
            "epoch 3: 100% 38/38 [00:28<00:00,  1.31batches/s, train_loss=0.681]\n",
            "validation: 100% 7/7 [00:01<00:00,  3.67batches/s, valid_acc=0.643]\n",
            "Validation accuracy improved from 0.5893 to 0.6429. Saving.\n",
            "validation: 100% 7/7 [00:01<00:00,  3.95batches/s, valid_loss=0.642]\n",
            "Validation loss decreased from 0.6429 to 0.6419. Saving.\n",
            "epoch 4: 100% 38/38 [00:28<00:00,  1.31batches/s, train_loss=0.655]\n",
            "validation: 100% 7/7 [00:01<00:00,  3.86batches/s, valid_acc=0.518]\n",
            "validation: 100% 7/7 [00:01<00:00,  3.62batches/s, valid_loss=0.669]\n",
            "epoch 5: 100% 38/38 [00:28<00:00,  1.33batches/s, train_loss=0.655]\n",
            "validation: 100% 7/7 [00:01<00:00,  4.08batches/s, valid_acc=0.607]\n",
            "validation: 100% 7/7 [00:01<00:00,  3.87batches/s, valid_loss=0.683]\n",
            "epoch 6: 100% 38/38 [00:28<00:00,  1.33batches/s, train_loss=0.665]\n",
            "validation: 100% 7/7 [00:01<00:00,  3.96batches/s, valid_acc=0.482]\n",
            "validation: 100% 7/7 [00:01<00:00,  3.76batches/s, valid_loss=0.644]\n",
            "epoch 7: 100% 38/38 [00:28<00:00,  1.32batches/s, train_loss=0.642]\n",
            "validation: 100% 7/7 [00:01<00:00,  3.89batches/s, valid_acc=0.625]\n",
            "validation: 100% 7/7 [00:01<00:00,  3.89batches/s, valid_loss=0.672]\n",
            "epoch 8: 100% 38/38 [00:28<00:00,  1.32batches/s, train_loss=0.584]\n",
            "validation: 100% 7/7 [00:01<00:00,  4.06batches/s, valid_acc=0.571]\n",
            "validation: 100% 7/7 [00:01<00:00,  3.96batches/s, valid_loss=0.704]\n",
            "epoch 9: 100% 38/38 [00:28<00:00,  1.32batches/s, train_loss=0.593]\n",
            "validation: 100% 7/7 [00:01<00:00,  3.85batches/s, valid_acc=0.571]\n",
            "validation: 100% 7/7 [00:01<00:00,  3.87batches/s, valid_loss=0.679]\n",
            "epoch 10: 100% 38/38 [00:29<00:00,  1.31batches/s, train_loss=0.628]\n",
            "validation: 100% 7/7 [00:01<00:00,  3.92batches/s, valid_acc=0.625]\n",
            "validation: 100% 7/7 [00:01<00:00,  3.85batches/s, valid_loss=0.688]\n",
            "epoch 11: 100% 38/38 [00:28<00:00,  1.32batches/s, train_loss=0.629]\n",
            "validation: 100% 7/7 [00:01<00:00,  3.90batches/s, valid_acc=0.464]\n",
            "validation: 100% 7/7 [00:01<00:00,  3.83batches/s, valid_loss=0.714]\n",
            "epoch 12: 100% 38/38 [00:28<00:00,  1.32batches/s, train_loss=0.55]\n",
            "validation: 100% 7/7 [00:01<00:00,  3.98batches/s, valid_acc=0.679]\n",
            "Validation accuracy improved from 0.6419 to 0.6786. Saving.\n",
            "validation: 100% 7/7 [00:01<00:00,  3.99batches/s, valid_loss=0.595]\n",
            "Validation loss decreased from 0.6786 to 0.5946. Saving.\n",
            "epoch 13: 100% 38/38 [00:28<00:00,  1.32batches/s, train_loss=0.53]\n",
            "validation: 100% 7/7 [00:01<00:00,  3.91batches/s, valid_acc=0.554]\n",
            "validation: 100% 7/7 [00:01<00:00,  3.84batches/s, valid_loss=0.713]\n",
            "epoch 14: 100% 38/38 [00:28<00:00,  1.32batches/s, train_loss=0.49]\n",
            "validation: 100% 7/7 [00:01<00:00,  3.90batches/s, valid_acc=0.554]\n",
            "validation: 100% 7/7 [00:01<00:00,  3.73batches/s, valid_loss=0.593]\n",
            "Validation loss decreased from 0.5946 to 0.5934. Saving.\n",
            "epoch 15: 100% 38/38 [00:28<00:00,  1.31batches/s, train_loss=0.494]\n",
            "validation: 100% 7/7 [00:01<00:00,  3.97batches/s, valid_acc=0.518]\n",
            "validation: 100% 7/7 [00:01<00:00,  3.91batches/s, valid_loss=0.746]\n",
            "epoch 16: 100% 38/38 [00:28<00:00,  1.32batches/s, train_loss=0.56]\n",
            "validation: 100% 7/7 [00:01<00:00,  3.84batches/s, valid_acc=0.5]\n",
            "validation: 100% 7/7 [00:01<00:00,  3.68batches/s, valid_loss=0.79]\n",
            "epoch 17: 100% 38/38 [00:28<00:00,  1.31batches/s, train_loss=0.422]\n",
            "validation: 100% 7/7 [00:01<00:00,  3.98batches/s, valid_acc=0.571]\n",
            "validation: 100% 7/7 [00:01<00:00,  4.01batches/s, valid_loss=0.68]\n",
            "epoch 18: 100% 38/38 [00:28<00:00,  1.33batches/s, train_loss=0.447]\n",
            "validation: 100% 7/7 [00:01<00:00,  4.02batches/s, valid_acc=0.554]\n",
            "validation: 100% 7/7 [00:01<00:00,  3.76batches/s, valid_loss=0.742]\n",
            "epoch 19: 100% 38/38 [00:28<00:00,  1.32batches/s, train_loss=0.429]\n",
            "validation: 100% 7/7 [00:01<00:00,  4.04batches/s, valid_acc=0.643]\n",
            "Validation accuracy improved from 0.5934 to 0.6429. Saving.\n",
            "validation: 100% 7/7 [00:01<00:00,  3.85batches/s, valid_loss=0.662]\n",
            "epoch 20: 100% 38/38 [00:28<00:00,  1.32batches/s, train_loss=0.459]\n",
            "validation: 100% 7/7 [00:01<00:00,  3.85batches/s, valid_acc=0.589]\n",
            "validation: 100% 7/7 [00:01<00:00,  3.72batches/s, valid_loss=0.59]\n",
            "Validation loss decreased from 0.6429 to 0.5900. Saving.\n",
            "Training with learning rate: 1e-05\n",
            "Some weights of BertForSequenceClassification were not initialized from the model checkpoint at trituenhantaoio/bert-base-vietnamese-uncased and are newly initialized: ['classifier.bias', 'classifier.weight']\n",
            "You should probably TRAIN this model on a down-stream task to be able to use it for predictions and inference.\n",
            "epoch 1: 100% 38/38 [00:29<00:00,  1.30batches/s, train_loss=0.708]\n",
            "validation: 100% 7/7 [00:01<00:00,  3.81batches/s, valid_acc=0.536]\n",
            "Validation accuracy improved from 0.0000 to 0.5357. Saving.\n",
            "validation: 100% 7/7 [00:01<00:00,  3.88batches/s, valid_loss=0.712]\n",
            "epoch 2: 100% 38/38 [00:28<00:00,  1.32batches/s, train_loss=0.72]\n",
            "validation: 100% 7/7 [00:01<00:00,  3.93batches/s, valid_acc=0.375]\n",
            "validation: 100% 7/7 [00:01<00:00,  3.99batches/s, valid_loss=0.734]\n",
            "epoch 3: 100% 38/38 [00:28<00:00,  1.32batches/s, train_loss=0.709]\n",
            "validation: 100% 7/7 [00:01<00:00,  3.95batches/s, valid_acc=0.571]\n",
            "Validation accuracy improved from 0.5357 to 0.5714. Saving.\n",
            "validation: 100% 7/7 [00:01<00:00,  3.94batches/s, valid_loss=0.704]\n",
            "epoch 4: 100% 38/38 [00:28<00:00,  1.31batches/s, train_loss=0.679]\n",
            "validation: 100% 7/7 [00:01<00:00,  3.99batches/s, valid_acc=0.5]\n",
            "validation: 100% 7/7 [00:01<00:00,  3.83batches/s, valid_loss=0.652]\n",
            "epoch 5: 100% 38/38 [00:28<00:00,  1.33batches/s, train_loss=0.686]\n",
            "validation: 100% 7/7 [00:01<00:00,  3.96batches/s, valid_acc=0.536]\n",
            "validation: 100% 7/7 [00:01<00:00,  4.00batches/s, valid_loss=0.696]\n",
            "epoch 6: 100% 38/38 [00:28<00:00,  1.31batches/s, train_loss=0.667]\n",
            "validation: 100% 7/7 [00:01<00:00,  3.77batches/s, valid_acc=0.625]\n",
            "Validation accuracy improved from 0.5714 to 0.6250. Saving.\n",
            "validation: 100% 7/7 [00:01<00:00,  3.87batches/s, valid_loss=0.67]\n",
            "epoch 7: 100% 38/38 [00:28<00:00,  1.32batches/s, train_loss=0.648]\n",
            "validation: 100% 7/7 [00:01<00:00,  3.91batches/s, valid_acc=0.536]\n",
            "validation: 100% 7/7 [00:01<00:00,  4.02batches/s, valid_loss=0.617]\n",
            "Validation loss decreased from 0.6250 to 0.6170. Saving.\n",
            "epoch 8: 100% 38/38 [00:28<00:00,  1.32batches/s, train_loss=0.656]\n",
            "validation: 100% 7/7 [00:01<00:00,  3.83batches/s, valid_acc=0.518]\n",
            "validation: 100% 7/7 [00:01<00:00,  3.56batches/s, valid_loss=0.678]\n",
            "epoch 9: 100% 38/38 [00:28<00:00,  1.32batches/s, train_loss=0.63]\n",
            "validation: 100% 7/7 [00:01<00:00,  3.81batches/s, valid_acc=0.518]\n",
            "validation: 100% 7/7 [00:01<00:00,  3.93batches/s, valid_loss=0.658]\n",
            "epoch 10: 100% 38/38 [00:28<00:00,  1.33batches/s, train_loss=0.624]\n",
            "validation: 100% 7/7 [00:01<00:00,  3.92batches/s, valid_acc=0.518]\n",
            "validation: 100% 7/7 [00:01<00:00,  3.71batches/s, valid_loss=0.649]\n",
            "epoch 11: 100% 38/38 [00:28<00:00,  1.32batches/s, train_loss=0.596]\n",
            "validation: 100% 7/7 [00:01<00:00,  3.78batches/s, valid_acc=0.536]\n",
            "validation: 100% 7/7 [00:01<00:00,  3.87batches/s, valid_loss=0.662]\n",
            "epoch 12: 100% 38/38 [00:28<00:00,  1.33batches/s, train_loss=0.595]\n",
            "validation: 100% 7/7 [00:01<00:00,  3.83batches/s, valid_acc=0.714]\n",
            "Validation accuracy improved from 0.6170 to 0.7143. Saving.\n",
            "validation: 100% 7/7 [00:01<00:00,  3.59batches/s, valid_loss=0.658]\n",
            "Validation loss decreased from 0.7143 to 0.6579. Saving.\n",
            "epoch 13: 100% 38/38 [00:28<00:00,  1.32batches/s, train_loss=0.565]\n",
            "validation: 100% 7/7 [00:01<00:00,  3.75batches/s, valid_acc=0.661]\n",
            "Validation accuracy improved from 0.6579 to 0.6607. Saving.\n",
            "validation: 100% 7/7 [00:01<00:00,  3.84batches/s, valid_loss=0.705]\n",
            "epoch 14: 100% 38/38 [00:28<00:00,  1.32batches/s, train_loss=0.533]\n",
            "validation: 100% 7/7 [00:01<00:00,  3.87batches/s, valid_acc=0.554]\n",
            "validation: 100% 7/7 [00:01<00:00,  3.95batches/s, valid_loss=0.665]\n",
            "epoch 15: 100% 38/38 [00:28<00:00,  1.34batches/s, train_loss=0.5]\n",
            "validation: 100% 7/7 [00:01<00:00,  3.96batches/s, valid_acc=0.536]\n",
            "validation: 100% 7/7 [00:01<00:00,  3.94batches/s, valid_loss=0.763]\n",
            "epoch 16: 100% 38/38 [00:28<00:00,  1.31batches/s, train_loss=0.501]\n",
            "validation: 100% 7/7 [00:01<00:00,  3.95batches/s, valid_acc=0.625]\n",
            "validation: 100% 7/7 [00:01<00:00,  3.94batches/s, valid_loss=0.738]\n",
            "epoch 17: 100% 38/38 [00:28<00:00,  1.32batches/s, train_loss=0.424]\n",
            "validation: 100% 7/7 [00:01<00:00,  3.73batches/s, valid_acc=0.696]\n",
            "Validation accuracy improved from 0.6607 to 0.6964. Saving.\n",
            "validation: 100% 7/7 [00:01<00:00,  3.80batches/s, valid_loss=0.78]\n",
            "epoch 18: 100% 38/38 [00:28<00:00,  1.33batches/s, train_loss=0.432]\n",
            "validation: 100% 7/7 [00:01<00:00,  3.91batches/s, valid_acc=0.679]\n",
            "validation: 100% 7/7 [00:01<00:00,  4.01batches/s, valid_loss=0.843]\n",
            "epoch 19: 100% 38/38 [00:28<00:00,  1.32batches/s, train_loss=0.422]\n",
            "validation: 100% 7/7 [00:01<00:00,  3.89batches/s, valid_acc=0.5]\n",
            "validation: 100% 7/7 [00:01<00:00,  3.79batches/s, valid_loss=0.745]\n",
            "epoch 20: 100% 38/38 [00:28<00:00,  1.31batches/s, train_loss=0.406]\n",
            "validation: 100% 7/7 [00:01<00:00,  3.84batches/s, valid_acc=0.571]\n",
            "validation: 100% 7/7 [00:01<00:00,  4.02batches/s, valid_loss=0.869]\n"
          ]
        }
      ],
      "source": [
        "!python training/train_qa_mcq.py"
      ]
    },
    {
      "cell_type": "code",
      "execution_count": null,
      "metadata": {},
      "outputs": [],
      "source": [
        "!python training/train_distractors.py"
      ]
    },
    {
      "cell_type": "markdown",
      "metadata": {},
      "source": [
        "**Evaluate model**"
      ]
    },
    {
      "cell_type": "code",
      "execution_count": null,
      "metadata": {
        "colab": {
          "base_uri": "https://localhost:8080/"
        },
        "id": "aXWBdW0dK1mZ",
        "outputId": "60fd842c-4b29-4598-ee39-85d1350d1d1d"
      },
      "outputs": [
        {
          "name": "stdout",
          "output_type": "stream",
          "text": [
            "Special tokens have been added in the vocabulary, make sure the associated word embeddings are fine-tuned or trained.\n",
            "validation: 100% 6/6 [00:03<00:00,  1.96batches/s, valid_loss=0.644]\n",
            "validation: 100% 6/6 [00:04<00:00,  1.39batches/s, valid_acc=0.228]\n"
          ]
        }
      ],
      "source": [
        "!python training/test_qa.py"
      ]
    },
    {
      "cell_type": "markdown",
      "metadata": {},
      "source": [
        "**Execute model** (2 ways)"
      ]
    },
    {
      "cell_type": "code",
      "execution_count": null,
      "metadata": {},
      "outputs": [],
      "source": [
        "!python run_qa.py"
      ]
    },
    {
      "cell_type": "code",
      "execution_count": null,
      "metadata": {},
      "outputs": [
        {
          "name": "stderr",
          "output_type": "stream",
          "text": [
            "Special tokens have been added in the vocabulary, make sure the associated word embeddings are fine-tuned or trained.\n"
          ]
        },
        {
          "name": "stdout",
          "output_type": "stream",
          "text": [
            "Generating questions...\n",
            "\n",
            "Evaluating QA pairs...\n",
            "\n",
            "('\\nWas only able to generate 2 questions.', 'For more questions, please input a longer text.')\n",
            "1) Q: Ai là người đã rút ra bài học quan trọng?\n",
            "   A: Từ lý luận của chủ nghĩa Mác - Lênin, Đảng Cộng sản Việt Nam đã rút ra bài học quan trọng là Mọi đường lối, chủ trương của Đảng phải xuất phát từ thực tế, tôn trọng quy luật khách quan.\n",
            "\n",
            "      Confidence: 0\n",
            "\n",
            "2) Q: Ai chủ trương: huy động mọi nguồn lực cho công cuộc đổi mới?\n",
            "   A: Đất nước ta đang bước vào thời kỳ đẩy mạnh công nghiệp hóa và hiện đại hóa, Đảng chủ trương: huy động ngày càng cao mọi nguồn lực cả trong và ngoài nước, đặc biệt là nguồn lực của dân vào công cuộc phát triển đất nước, muốn vậy phải nâng cao năng lực lãnh đạo và sức chiến đấu của Đảng phát huy sức mạnh toàn dân tộc, đẩy mạnh toàn diện công cuộc đổi mới, sớm đưa nước ta ra khỏi tình trạng kém phát triển, thực hiện dân giàu, nước mạnh, xã hội công bằng, dân chủ, văn minh.\n",
            "\n",
            "      Confidence: 1\n",
            "\n",
            "Output đã được lưu vào file 'generated_questions.txt'\n"
          ]
        }
      ],
      "source": [
        "%load questiongenerator.py\n",
        "from questiongenerator import QuestionGenerator\n",
        "from questiongenerator import print_qa\n",
        "from questiongenerator import save_qa_to_txt\n",
        "qg = QuestionGenerator()\n",
        "\n",
        "\n",
        "article = \"Từ lý luận của chủ nghĩa Mác - Lênin, Đảng Cộng sản Việt Nam đã rút ra bài học quan trọng là Mọi đường lối, chủ trương của Đảng phải xuất phát từ thực tế, tôn trọng quy luật khách quan . Đất nước ta đang bước vào thời kỳ đẩy mạnh công nghiệp hóa và hiện đại hóa, Đảng chủ trương: huy động ngày càng cao mọi nguồn lực cả trong và ngoài nước, đặc biệt là nguồn lực của dân vào công cuộc phát triển đất nước , muốn vậy  phải nâng cao năng lực lãnh đạo và sức chiến đấu của Đảng phát huy sức mạnh toàn dân tộc, đẩy mạnh toàn diện công cuộc đổi mới, sớm đưa nước ta ra khỏi tình trạng kém phát triển, thực hiện dân giàu, nước mạnh, xã hội công bằng, dân chủ, văn minh.\"\n",
        "\n",
        "qa_list = qg.generate(\n",
        "    article,\n",
        "    num_questions=3,\n",
        "    answer_style='sentences'\n",
        ")\n",
        "# print_qa(qa_list, show_answers=False)\n",
        "print_qa(qa_list, show_answers=True)\n",
        "# qg.save_questions_to_file(qa_list, \"questions.txt\")\n",
        "\n",
        "# Sử dụng hàm để lưu output\n",
        "output_file_path = \"generated_questions.txt\"\n",
        "save_qa_to_txt(qa_list, output_file_path)\n",
        "print(f\"Output đã được lưu vào file '{output_file_path}'\")"
      ]
    },
    {
      "cell_type": "markdown",
      "metadata": {},
      "source": [
        "**Plot the result of output**"
      ]
    },
    {
      "cell_type": "code",
      "execution_count": null,
      "metadata": {
        "colab": {
          "base_uri": "https://localhost:8080/",
          "height": 487
        },
        "id": "qPQFmTJKpv1J",
        "outputId": "ad652b72-2982-4e4f-a71b-2035ed0b05ce"
      },
      "outputs": [
        {
          "data": {
            "image/png": "[encoded data removed]",
            "text/plain": [
              "<Figure size 1000x500 with 1 Axes>"
            ]
          },
          "metadata": {},
          "output_type": "display_data"
        }
      ],
      "source": [
        "import pandas as pd\n",
        "import matplotlib.pyplot as plt\n",
        "\n",
        "# Đọc dữ liệu từ file CSV\n",
        "df = pd.read_csv('result/qg_training_log.csv')\n",
        "\n",
        "# Plot train_loss và valid_loss\n",
        "plt.figure(figsize=(10, 5))\n",
        "\n",
        "# Plot train_loss\n",
        "plt.plot(df['epoch'], df['train_loss'], label='Train Loss', linestyle='-')\n",
        "\n",
        "# Plot valid_loss\n",
        "plt.plot(df['epoch'], df['valid_loss'], label='Valid Loss', linestyle='--')\n",
        "\n",
        "plt.xlabel('Epoch')\n",
        "plt.ylabel('Loss')\n",
        "plt.title('Train and Valid Losses vs. Epoch')\n",
        "plt.legend()\n",
        "plt.grid(True)\n",
        "plt.show()"
      ]
    },
    {
      "cell_type": "code",
      "execution_count": null,
      "metadata": {},
      "outputs": [],
      "source": [
        "plt.plot(df['epoch'], df['train_loss'], label='Train Loss', linestyle='-')\n",
        "\n",
        "# Plot valid_loss\n",
        "plt.plot(df['epoch'], df['valid_loss'], label='Valid Loss', linestyle='--')\n",
        "\n",
        "plt.xlabel('Epoch')\n",
        "plt.ylabel('Loss')\n",
        "plt.title('Train and Valid Losses vs. Epoch')\n",
        "plt.legend()\n",
        "plt.grid(True)\n",
        "plt.show()"
      ]
    },
    {
      "cell_type": "markdown",
      "metadata": {},
      "source": [
        "**Evaluate model score**"
      ]
    },
    {
      "cell_type": "code",
      "execution_count": 10,
      "metadata": {
        "colab": {
          "base_uri": "https://localhost:8080/"
        },
        "id": "RwkLKyNsN25v",
        "outputId": "230400f0-3793-4c73-a63d-0d1fc5d2507a"
      },
      "outputs": [
        {
          "name": "stdout",
          "output_type": "stream",
          "text": [
            "\r0% [Working]\r            \rGet:1 https://cloud.r-project.org/bin/linux/ubuntu jammy-cran40/ InRelease [3,626 B]\n",
            "\r0% [Waiting for headers] [Connecting to security.ubuntu.com (185.125.190.36)] [\r0% [Waiting for headers] [Connecting to security.ubuntu.com (185.125.190.36)] [\r                                                                               \rHit:2 https://developer.download.nvidia.com/compute/cuda/repos/ubuntu2204/x86_64  InRelease\n",
            "\r0% [Waiting for headers] [Waiting for headers] [Connecting to ppa.launchpadcont\r                                                                               \rHit:3 http://archive.ubuntu.com/ubuntu jammy InRelease\n",
            "\r0% [Waiting for headers] [Waiting for headers] [Connecting to ppa.launchpadcont\r                                                                               \rGet:4 http://archive.ubuntu.com/ubuntu jammy-updates InRelease [119 kB]\n",
            "Get:5 http://security.ubuntu.com/ubuntu jammy-security InRelease [110 kB]\n",
            "Hit:6 http://archive.ubuntu.com/ubuntu jammy-backports InRelease\n",
            "Get:7 http://archive.ubuntu.com/ubuntu jammy-updates/main amd64 Packages [2,118 kB]\n",
            "Hit:8 https://ppa.launchpadcontent.net/c2d4u.team/c2d4u4.0+/ubuntu jammy InRelease\n",
            "Hit:9 https://ppa.launchpadcontent.net/deadsnakes/ppa/ubuntu jammy InRelease\n",
            "Hit:10 https://ppa.launchpadcontent.net/graphics-drivers/ppa/ubuntu jammy InRelease\n",
            "Hit:11 https://ppa.launchpadcontent.net/ubuntugis/ppa/ubuntu jammy InRelease\n",
            "Fetched 2,351 kB in 1s (2,128 kB/s)\n",
            "Reading package lists... Done\n",
            "Reading package lists... Done\n",
            "Building dependency tree... Done\n",
            "Reading state information... Done\n",
            "The following additional packages will be installed:\n",
            "  default-jre-headless fonts-dejavu-core fonts-dejavu-extra\n",
            "  libatk-wrapper-java libatk-wrapper-java-jni libfontenc1 libxkbfile1 libxtst6\n",
            "  libxxf86dga1 openjdk-11-jre x11-utils\n",
            "Suggested packages:\n",
            "  mesa-utils\n",
            "The following NEW packages will be installed:\n",
            "  default-jre default-jre-headless fonts-dejavu-core fonts-dejavu-extra\n",
            "  libatk-wrapper-java libatk-wrapper-java-jni libfontenc1 libxkbfile1 libxtst6\n",
            "  libxxf86dga1 openjdk-11-jre x11-utils\n",
            "0 upgraded, 12 newly installed, 0 to remove and 45 not upgraded.\n",
            "Need to get 3,720 kB of archives.\n",
            "After this operation, 12.7 MB of additional disk space will be used.\n",
            "Get:1 http://archive.ubuntu.com/ubuntu jammy/main amd64 default-jre-headless amd64 2:1.11-72build2 [3,042 B]\n",
            "Get:2 http://archive.ubuntu.com/ubuntu jammy/main amd64 libxtst6 amd64 2:1.2.3-1build4 [13.4 kB]\n",
            "Get:3 http://archive.ubuntu.com/ubuntu jammy-updates/main amd64 openjdk-11-jre amd64 11.0.22+7-0ubuntu2~22.04.1 [214 kB]\n",
            "Get:4 http://archive.ubuntu.com/ubuntu jammy/main amd64 default-jre amd64 2:1.11-72build2 [896 B]\n",
            "Get:5 http://archive.ubuntu.com/ubuntu jammy/main amd64 fonts-dejavu-core all 2.37-2build1 [1,041 kB]\n",
            "Get:6 http://archive.ubuntu.com/ubuntu jammy/main amd64 fonts-dejavu-extra all 2.37-2build1 [2,041 kB]\n",
            "Get:7 http://archive.ubuntu.com/ubuntu jammy/main amd64 libfontenc1 amd64 1:1.1.4-1build3 [14.7 kB]\n",
            "Get:8 http://archive.ubuntu.com/ubuntu jammy/main amd64 libxkbfile1 amd64 1:1.1.0-1build3 [71.8 kB]\n",
            "Get:9 http://archive.ubuntu.com/ubuntu jammy/main amd64 libxxf86dga1 amd64 2:1.1.5-0ubuntu3 [12.6 kB]\n",
            "Get:10 http://archive.ubuntu.com/ubuntu jammy/main amd64 x11-utils amd64 7.7+5build2 [206 kB]\n",
            "Get:11 http://archive.ubuntu.com/ubuntu jammy/main amd64 libatk-wrapper-java all 0.38.0-5build1 [53.1 kB]\n",
            "Get:12 http://archive.ubuntu.com/ubuntu jammy/main amd64 libatk-wrapper-java-jni amd64 0.38.0-5build1 [49.0 kB]\n",
            "Fetched 3,720 kB in 0s (8,175 kB/s)\n",
            "debconf: unable to initialize frontend: Dialog\n",
            "debconf: (No usable dialog-like program is installed, so the dialog based frontend cannot be used. at /usr/share/perl5/Debconf/FrontEnd/Dialog.pm line 78, <> line 12.)\n",
            "debconf: falling back to frontend: Readline\n",
            "debconf: unable to initialize frontend: Readline\n",
            "debconf: (This frontend requires a controlling tty.)\n",
            "debconf: falling back to frontend: Teletype\n",
            "dpkg-preconfigure: unable to re-open stdin: \n",
            "Selecting previously unselected package default-jre-headless.\n",
            "(Reading database ... 121918 files and directories currently installed.)\n",
            "Preparing to unpack .../00-default-jre-headless_2%3a1.11-72build2_amd64.deb ...\n",
            "Unpacking default-jre-headless (2:1.11-72build2) ...\n",
            "Selecting previously unselected package libxtst6:amd64.\n",
            "Preparing to unpack .../01-libxtst6_2%3a1.2.3-1build4_amd64.deb ...\n",
            "Unpacking libxtst6:amd64 (2:1.2.3-1build4) ...\n",
            "Selecting previously unselected package openjdk-11-jre:amd64.\n",
            "Preparing to unpack .../02-openjdk-11-jre_11.0.22+7-0ubuntu2~22.04.1_amd64.deb ...\n",
            "Unpacking openjdk-11-jre:amd64 (11.0.22+7-0ubuntu2~22.04.1) ...\n",
            "Selecting previously unselected package default-jre.\n",
            "Preparing to unpack .../03-default-jre_2%3a1.11-72build2_amd64.deb ...\n",
            "Unpacking default-jre (2:1.11-72build2) ...\n",
            "Selecting previously unselected package fonts-dejavu-core.\n",
            "Preparing to unpack .../04-fonts-dejavu-core_2.37-2build1_all.deb ...\n",
            "Unpacking fonts-dejavu-core (2.37-2build1) ...\n",
            "Selecting previously unselected package fonts-dejavu-extra.\n",
            "Preparing to unpack .../05-fonts-dejavu-extra_2.37-2build1_all.deb ...\n",
            "Unpacking fonts-dejavu-extra (2.37-2build1) ...\n",
            "Selecting previously unselected package libfontenc1:amd64.\n",
            "Preparing to unpack .../06-libfontenc1_1%3a1.1.4-1build3_amd64.deb ...\n",
            "Unpacking libfontenc1:amd64 (1:1.1.4-1build3) ...\n",
            "Selecting previously unselected package libxkbfile1:amd64.\n",
            "Preparing to unpack .../07-libxkbfile1_1%3a1.1.0-1build3_amd64.deb ...\n",
            "Unpacking libxkbfile1:amd64 (1:1.1.0-1build3) ...\n",
            "Selecting previously unselected package libxxf86dga1:amd64.\n",
            "Preparing to unpack .../08-libxxf86dga1_2%3a1.1.5-0ubuntu3_amd64.deb ...\n",
            "Unpacking libxxf86dga1:amd64 (2:1.1.5-0ubuntu3) ...\n",
            "Selecting previously unselected package x11-utils.\n",
            "Preparing to unpack .../09-x11-utils_7.7+5build2_amd64.deb ...\n",
            "Unpacking x11-utils (7.7+5build2) ...\n",
            "Selecting previously unselected package libatk-wrapper-java.\n",
            "Preparing to unpack .../10-libatk-wrapper-java_0.38.0-5build1_all.deb ...\n",
            "Unpacking libatk-wrapper-java (0.38.0-5build1) ...\n",
            "Selecting previously unselected package libatk-wrapper-java-jni:amd64.\n",
            "Preparing to unpack .../11-libatk-wrapper-java-jni_0.38.0-5build1_amd64.deb ...\n",
            "Unpacking libatk-wrapper-java-jni:amd64 (0.38.0-5build1) ...\n",
            "Setting up default-jre-headless (2:1.11-72build2) ...\n",
            "Setting up libxtst6:amd64 (2:1.2.3-1build4) ...\n",
            "Setting up libxxf86dga1:amd64 (2:1.1.5-0ubuntu3) ...\n",
            "Setting up openjdk-11-jre:amd64 (11.0.22+7-0ubuntu2~22.04.1) ...\n",
            "Setting up default-jre (2:1.11-72build2) ...\n",
            "Setting up libfontenc1:amd64 (1:1.1.4-1build3) ...\n",
            "Setting up fonts-dejavu-core (2.37-2build1) ...\n",
            "Setting up fonts-dejavu-extra (2.37-2build1) ...\n",
            "Setting up libxkbfile1:amd64 (1:1.1.0-1build3) ...\n",
            "Setting up x11-utils (7.7+5build2) ...\n",
            "Setting up libatk-wrapper-java (0.38.0-5build1) ...\n",
            "Setting up libatk-wrapper-java-jni:amd64 (0.38.0-5build1) ...\n",
            "Processing triggers for hicolor-icon-theme (0.17-2) ...\n",
            "Processing triggers for libc-bin (2.35-0ubuntu3.4) ...\n",
            "/sbin/ldconfig.real: /usr/local/lib/libtbbmalloc.so.2 is not a symbolic link\n",
            "\n",
            "/sbin/ldconfig.real: /usr/local/lib/libtbbbind_2_5.so.3 is not a symbolic link\n",
            "\n",
            "/sbin/ldconfig.real: /usr/local/lib/libtbbmalloc_proxy.so.2 is not a symbolic link\n",
            "\n",
            "/sbin/ldconfig.real: /usr/local/lib/libtbbbind_2_0.so.3 is not a symbolic link\n",
            "\n",
            "/sbin/ldconfig.real: /usr/local/lib/libtbbbind.so.3 is not a symbolic link\n",
            "\n",
            "/sbin/ldconfig.real: /usr/local/lib/libtbb.so.12 is not a symbolic link\n",
            "\n",
            "Processing triggers for man-db (2.10.2-1) ...\n",
            "Processing triggers for fontconfig (2.13.1-4.2ubuntu5) ...\n",
            "Reading package lists... Done\n",
            "Building dependency tree... Done\n",
            "Reading state information... Done\n",
            "The following additional packages will be installed:\n",
            "  default-jdk-headless libice-dev libsm-dev libxt-dev openjdk-11-jdk\n",
            "Suggested packages:\n",
            "  libice-doc libsm-doc libxt-doc openjdk-11-demo openjdk-11-source visualvm\n",
            "The following NEW packages will be installed:\n",
            "  default-jdk default-jdk-headless libice-dev libsm-dev libxt-dev\n",
            "  openjdk-11-jdk\n",
            "0 upgraded, 6 newly installed, 0 to remove and 45 not upgraded.\n",
            "Need to get 1,806 kB of archives.\n",
            "After this operation, 3,132 kB of additional disk space will be used.\n",
            "Get:1 http://archive.ubuntu.com/ubuntu jammy/main amd64 default-jdk-headless amd64 2:1.11-72build2 [942 B]\n",
            "Get:2 http://archive.ubuntu.com/ubuntu jammy-updates/main amd64 openjdk-11-jdk amd64 11.0.22+7-0ubuntu2~22.04.1 [1,339 kB]\n",
            "Get:3 http://archive.ubuntu.com/ubuntu jammy/main amd64 default-jdk amd64 2:1.11-72build2 [908 B]\n",
            "Get:4 http://archive.ubuntu.com/ubuntu jammy/main amd64 libice-dev amd64 2:1.0.10-1build2 [51.4 kB]\n",
            "Get:5 http://archive.ubuntu.com/ubuntu jammy/main amd64 libsm-dev amd64 2:1.2.3-1build2 [18.1 kB]\n",
            "Get:6 http://archive.ubuntu.com/ubuntu jammy/main amd64 libxt-dev amd64 1:1.2.1-1 [396 kB]\n",
            "Fetched 1,806 kB in 0s (4,309 kB/s)\n",
            "debconf: unable to initialize frontend: Dialog\n",
            "debconf: (No usable dialog-like program is installed, so the dialog based frontend cannot be used. at /usr/share/perl5/Debconf/FrontEnd/Dialog.pm line 78, <> line 6.)\n",
            "debconf: falling back to frontend: Readline\n",
            "debconf: unable to initialize frontend: Readline\n",
            "debconf: (This frontend requires a controlling tty.)\n",
            "debconf: falling back to frontend: Teletype\n",
            "dpkg-preconfigure: unable to re-open stdin: \n",
            "Selecting previously unselected package default-jdk-headless.\n",
            "(Reading database ... 122080 files and directories currently installed.)\n",
            "Preparing to unpack .../0-default-jdk-headless_2%3a1.11-72build2_amd64.deb ...\n",
            "Unpacking default-jdk-headless (2:1.11-72build2) ...\n",
            "Selecting previously unselected package openjdk-11-jdk:amd64.\n",
            "Preparing to unpack .../1-openjdk-11-jdk_11.0.22+7-0ubuntu2~22.04.1_amd64.deb ...\n",
            "Unpacking openjdk-11-jdk:amd64 (11.0.22+7-0ubuntu2~22.04.1) ...\n",
            "Selecting previously unselected package default-jdk.\n",
            "Preparing to unpack .../2-default-jdk_2%3a1.11-72build2_amd64.deb ...\n",
            "Unpacking default-jdk (2:1.11-72build2) ...\n",
            "Selecting previously unselected package libice-dev:amd64.\n",
            "Preparing to unpack .../3-libice-dev_2%3a1.0.10-1build2_amd64.deb ...\n",
            "Unpacking libice-dev:amd64 (2:1.0.10-1build2) ...\n",
            "Selecting previously unselected package libsm-dev:amd64.\n",
            "Preparing to unpack .../4-libsm-dev_2%3a1.2.3-1build2_amd64.deb ...\n",
            "Unpacking libsm-dev:amd64 (2:1.2.3-1build2) ...\n",
            "Selecting previously unselected package libxt-dev:amd64.\n",
            "Preparing to unpack .../5-libxt-dev_1%3a1.2.1-1_amd64.deb ...\n",
            "Unpacking libxt-dev:amd64 (1:1.2.1-1) ...\n",
            "Setting up libice-dev:amd64 (2:1.0.10-1build2) ...\n",
            "Setting up libsm-dev:amd64 (2:1.2.3-1build2) ...\n",
            "Setting up default-jdk-headless (2:1.11-72build2) ...\n",
            "Setting up libxt-dev:amd64 (1:1.2.1-1) ...\n",
            "Setting up openjdk-11-jdk:amd64 (11.0.22+7-0ubuntu2~22.04.1) ...\n",
            "update-alternatives: using /usr/lib/jvm/java-11-openjdk-amd64/bin/jconsole to provide /usr/bin/jconsole (jconsole) in auto mode\n",
            "Setting up default-jdk (2:1.11-72build2) ...\n",
            "Processing triggers for man-db (2.10.2-1) ...\n",
            "Cloning into 'nqg'...\n",
            "remote: Enumerating objects: 236, done.\u001b[K\n",
            "remote: Counting objects: 100% (23/23), done.\u001b[K\n",
            "remote: Compressing objects: 100% (20/20), done.\u001b[K\n",
            "remote: Total 236 (delta 7), reused 10 (delta 3), pack-reused 213\u001b[K\n",
            "Receiving objects: 100% (236/236), 86.79 MiB | 23.70 MiB/s, done.\n",
            "Resolving deltas: 100% (65/65), done.\n"
          ]
        }
      ],
      "source": [
        "## setup scorer\n",
        "!python setup_scorer.py"
      ]
    },
    {
      "cell_type": "code",
      "execution_count": 45,
      "metadata": {
        "colab": {
          "base_uri": "https://localhost:8080/"
        },
        "id": "fZJdswMqN5cA",
        "outputId": "7654eaa6-8212-467e-d789-0a84d4e7eee7"
      },
      "outputs": [
        {
          "name": "stdout",
          "output_type": "stream",
          "text": [
            "scores: \n",
            "\n",
            "Bleu_1: 0.96255\n",
            "Bleu_2: 0.96167\n",
            "Bleu_3: 0.96073\n",
            "Bleu_4: 0.95972\n",
            "METEOR: 0.72611\n",
            "ROUGE_L: 0.95826\n"
          ]
        }
      ],
      "source": [
        "## evaluation\n",
        "!python nqg/qgevalcap/eval.py \\\n",
        "  --src datasets/score_evaluation/predict.txt \\\n",
        "  --tgt datasets/score_evaluation/tgt-test.txt \\\n",
        "  --out datasets/score_evaluation/predict.txt"
      ]
    }
  ],
  "metadata": {
    "accelerator": "GPU",
    "colab": {
      "gpuType": "T4",
      "provenance": []
    },
    "kernelspec": {
      "display_name": "Python 3",
      "name": "python3"
    },
    "language_info": {
      "name": "python"
    }
  },
  "nbformat": 4,
  "nbformat_minor": 0
}
